{
 "cells": [
  {
   "cell_type": "code",
   "execution_count": 2,
   "metadata": {},
   "outputs": [],
   "source": [
    "#In this script we show different ways to predict occupancy for several time periods ahead\n",
    "#based on occupancies in the past."
   ]
  },
  {
   "cell_type": "code",
   "execution_count": 3,
   "metadata": {},
   "outputs": [],
   "source": [
    "# **** PRE-DATA ANALYSIS *****\n",
    "\n",
    "#Without even looking at the data, we expect two things:\n",
    "# 1. occupancy will have a seasonal components: higher in holiday periods, higher in weekend for example\n",
    "# --> This means that we are to put a variable indicating the date to predict occupancy\n",
    "# 2. occupancy increases as the scraping date gets nearer the pricing date: a long time ahead, only\n",
    "#very organised early birds book but as we get nearer even lazy people like me finally stick their fingers\n",
    "# out their a** and book.\n",
    "#--> But in fact I was always going to book so we want to predict occupancy at close as possible to the\n",
    "#pricing time, not the scraping one."
   ]
  },
  {
   "cell_type": "code",
   "execution_count": 4,
   "metadata": {},
   "outputs": [],
   "source": [
    "# **** EXPLORATION ****\n",
    "\n",
    "# Now let's look at the data. This is called \"exploratory data analysis\", which is a pretentious name\n",
    "# for checking what the data looks like."
   ]
  },
  {
   "cell_type": "code",
   "execution_count": 5,
   "metadata": {},
   "outputs": [],
   "source": [
    "import pandas as pd \n",
    "\n",
    "# A good library for data manipulation with some amazingly simple functions as you will see.\n",
    "# It is built on top of built on top of NumPy, which actually made of C extensions \n",
    "# and is pretty fast by Python standards. For some operations, I think it could be better to use NumPy directly,\n",
    "# but let's leave that for now. "
   ]
  },
  {
   "cell_type": "code",
   "execution_count": 6,
   "metadata": {},
   "outputs": [],
   "source": [
    "df = pd.read_csv('snapshots.csv',sep = \";\") #loading the data with first row as column names"
   ]
  },
  {
   "cell_type": "code",
   "execution_count": 7,
   "metadata": {},
   "outputs": [
    {
     "name": "stdout",
     "output_type": "stream",
     "text": [
      "   calendar.available calendar.date  calendar.price currency platform  \\\n",
      "0               False    2018-11-28          221.56      USD   AIRBNB   \n",
      "1                True    2018-11-29          221.56      USD   AIRBNB   \n",
      "2                True    2018-11-30          221.56      USD   AIRBNB   \n",
      "3                True    2018-12-01          221.56      USD   AIRBNB   \n",
      "4                True    2018-12-02          221.56      USD   AIRBNB   \n",
      "\n",
      "  scrapingDateString    unifiedId  \n",
      "0         2018-11-28  AIR10132419  \n",
      "1         2018-11-28  AIR10132419  \n",
      "2         2018-11-28  AIR10132419  \n",
      "3         2018-11-28  AIR10132419  \n",
      "4         2018-11-28  AIR10132419  \n"
     ]
    }
   ],
   "source": [
    "print(df.head()) #prints headers and first five rows."
   ]
  },
  {
   "cell_type": "code",
   "execution_count": 8,
   "metadata": {},
   "outputs": [
    {
     "name": "stdout",
     "output_type": "stream",
     "text": [
      "<class 'pandas.core.frame.DataFrame'>\n",
      "RangeIndex: 4733573 entries, 0 to 4733572\n",
      "Data columns (total 7 columns):\n",
      "calendar.available    bool\n",
      "calendar.date         object\n",
      "calendar.price        float64\n",
      "currency              object\n",
      "platform              object\n",
      "scrapingDateString    object\n",
      "unifiedId             object\n",
      "dtypes: bool(1), float64(1), object(5)\n",
      "memory usage: 221.2+ MB\n",
      "None\n"
     ]
    }
   ],
   "source": [
    "print(df.info()) #prints number of columns and entries"
   ]
  },
  {
   "cell_type": "code",
   "execution_count": 9,
   "metadata": {},
   "outputs": [],
   "source": [
    "# This is another useful exploratory tool that lets you see the unique values in each column "
   ]
  },
  {
   "cell_type": "code",
   "execution_count": 10,
   "metadata": {},
   "outputs": [
    {
     "name": "stdout",
     "output_type": "stream",
     "text": [
      "['AIR10132419' 'AIR1015402' 'AIR10460862' 'AIR10689360' 'AIR1092321'\n",
      " 'AIR1111406' 'AIR1111408' 'AIR11350159' 'AIR11808600' 'AIR1199382'\n",
      " 'AIR12083780' 'AIR1215236' 'AIR1237747' 'AIR1255085' 'AIR12622252'\n",
      " 'AIR1266491' 'AIR12816386' 'AIR12978453' 'AIR1328996' 'AIR13337294'\n",
      " 'AIR13777525' 'AIR13982517' 'AIR13982658' 'AIR14171072' 'AIR14216618'\n",
      " 'AIR14332530' 'AIR14495480' 'AIR14605880' 'AIR15080808' 'AIR1523802'\n",
      " 'AIR15244110' 'AIR15539012' 'AIR16036637' 'AIR16209983' 'AIR16431701'\n",
      " 'AIR16459535' 'AIR16462603' 'AIR16463167' 'AIR16472592' 'AIR16485345'\n",
      " 'AIR16486504' 'AIR16486879' 'AIR16555849' 'AIR16573574' 'AIR16592088'\n",
      " 'AIR16592830' 'AIR1661060' 'AIR16761113' 'AIR16870852' 'AIR16887520'\n",
      " 'AIR1695711' 'AIR17042853' 'AIR1720909' 'AIR17471178' 'AIR17471182'\n",
      " 'AIR17480495' 'AIR17521506' 'AIR17568681' 'AIR17691490' 'AIR17751454'\n",
      " 'AIR17798062' 'AIR17996490' 'AIR18069045' 'AIR18221421' 'AIR1831778'\n",
      " 'AIR18508649' 'AIR1851080' 'AIR18564914' 'AIR186542' 'AIR18672570'\n",
      " 'AIR18782153' 'AIR18874540' 'AIR19193802' 'AIR19509384' 'AIR19570865'\n",
      " 'AIR19586510' 'AIR19653808' 'AIR20060181' 'AIR20201524' 'AIR20201831'\n",
      " 'AIR20203034' 'AIR2029462' 'AIR20309328' 'AIR20353402' 'AIR20369085'\n",
      " 'AIR20374256' 'AIR2048372' 'AIR20568779' 'AIR20684202' 'AIR20738888'\n",
      " 'AIR20789007' 'AIR20813301' 'AIR2111196' 'AIR21115565' 'AIR21139133'\n",
      " 'AIR21319710' 'AIR21319838' 'AIR21521482' 'AIR21721070' 'AIR21721286'\n",
      " 'AIR21721312' 'AIR21721375' 'AIR21721477' 'AIR21721729' 'AIR21764769'\n",
      " 'AIR2204820' 'AIR22272763' 'AIR22313479' 'AIR22409751' 'AIR22463954'\n",
      " 'AIR22501504' 'AIR22599443' 'AIR22646263' 'AIR2268067' 'AIR22737544'\n",
      " 'AIR22878815' 'AIR22918869' 'AIR2292917' 'AIR22932854' 'AIR22998247'\n",
      " 'AIR23192971' 'AIR23261438' 'AIR23290148' 'AIR23414501' 'AIR23623789'\n",
      " 'AIR23641987' 'AIR23643824' 'AIR23656257' 'AIR23682450' 'AIR23692077'\n",
      " 'AIR23739642' 'AIR23757508' 'AIR24055214' 'AIR24167970' 'AIR24342256'\n",
      " 'AIR24342272' 'AIR24344024' 'AIR24448286' 'AIR24483048' 'AIR24528857'\n",
      " 'AIR24590040' 'AIR24664178' 'AIR24742850' 'AIR24747700' 'AIR24787329'\n",
      " 'AIR24796633' 'AIR24904121' 'AIR24961508' 'AIR25095570' 'AIR25122001'\n",
      " 'AIR25155520' 'AIR2542510' 'AIR25440349' 'AIR2545534' 'AIR25510181'\n",
      " 'AIR25527385' 'AIR25656582' 'AIR25659452' 'AIR25659953' 'AIR25661387'\n",
      " 'AIR25661737' 'AIR2568864' 'AIR25819088' 'AIR25940594' 'AIR25974901'\n",
      " 'AIR2603195' 'AIR26034012' 'AIR26229633' 'AIR26318980' 'AIR26319024'\n",
      " 'AIR26410641' 'AIR26546331' 'AIR2656860' 'AIR26576725' 'AIR26588642'\n",
      " 'AIR26625950' 'AIR26628669' 'AIR26726767' 'AIR26744693' 'AIR26794445'\n",
      " 'AIR268017' 'AIR268022' 'AIR26809924' 'AIR26916770' 'AIR26916773'\n",
      " 'AIR26916776' 'AIR26935093' 'AIR26979631' 'AIR26979798' 'AIR26979976'\n",
      " 'AIR26980102' 'AIR26980317' 'AIR27038069' 'AIR27044767' 'AIR27044770'\n",
      " 'AIR27044772' 'AIR27044775' 'AIR27044779' 'AIR27044782' 'AIR27044783'\n",
      " 'AIR27044784' 'AIR27044786' 'AIR27045639' 'AIR27045640' 'AIR27045642'\n",
      " 'AIR27045781' 'AIR27045939' 'AIR27045940' 'AIR27045941' 'AIR27045943'\n",
      " 'AIR27045947' 'AIR27045951' 'AIR27045952' 'AIR27046255' 'AIR27046256'\n",
      " 'AIR27046259' 'AIR27046261' 'AIR27046262' 'AIR27046264' 'AIR27046265'\n",
      " 'AIR27057813' 'AIR27068131' 'AIR27226488' 'AIR27244516' 'AIR27270164'\n",
      " 'AIR27461793' 'AIR2758891' 'AIR27591422' 'AIR27593002' 'AIR27593448'\n",
      " 'AIR27593798' 'AIR27594041' 'AIR27643962' 'AIR27643967' 'AIR27643970'\n",
      " 'AIR27643974' 'AIR27643975' 'AIR27643976' 'AIR27643977' 'AIR27645131'\n",
      " 'AIR28067144' 'AIR28068082' 'AIR28080117' 'AIR28176642' 'AIR281978'\n",
      " 'AIR28688045' 'AIR28694406' 'AIR28747435' 'AIR28791996' 'AIR28826568'\n",
      " 'AIR28827432' 'AIR29047850' 'AIR2987956' 'AIR3083439' 'AIR3109700'\n",
      " 'AIR3110029' 'AIR3110443' 'AIR3110723' 'AIR3180085' 'AIR3180157'\n",
      " 'AIR3242608' 'AIR327133' 'AIR3300531' 'AIR3387950' 'AIR3634997'\n",
      " 'AIR3716592' 'AIR3734039' 'AIR3735449' 'AIR3757269' 'AIR3763933'\n",
      " 'AIR3785957' 'AIR3786665' 'AIR3795680' 'AIR380903' 'AIR3815305'\n",
      " 'AIR3816355' 'AIR3817610' 'AIR3921708' 'AIR4018686' 'AIR4228483'\n",
      " 'AIR4419860' 'AIR4543132' 'AIR4561744' 'AIR4742605' 'AIR478616'\n",
      " 'AIR4921267' 'AIR5056503' 'AIR522705' 'AIR5398030' 'AIR5398314'\n",
      " 'AIR5837003' 'AIR5856211' 'AIR5859204' 'AIR5936979' 'AIR5938638'\n",
      " 'AIR682808' 'AIR6863382' 'AIR702095' 'AIR7172379' 'AIR721504' 'AIR721509'\n",
      " 'AIR721510' 'AIR721511' 'AIR721512' 'AIR739557' 'AIR747081' 'AIR7627927'\n",
      " 'AIR7628496' 'AIR7628958' 'AIR7689286' 'AIR7731697' 'AIR7744075'\n",
      " 'AIR7992378' 'AIR811716' 'AIR8181239' 'AIR843214' 'AIR864681' 'AIR865309'\n",
      " 'AIR8729922' 'AIR8978226' 'AIR937482' 'AIR9469358' 'AIR9730962'\n",
      " 'AIR9741613']\n"
     ]
    }
   ],
   "source": [
    "print(df.unifiedId.unique())"
   ]
  },
  {
   "cell_type": "code",
   "execution_count": 11,
   "metadata": {},
   "outputs": [
    {
     "name": "stdout",
     "output_type": "stream",
     "text": [
      "['2018-11-28' '2018-11-27' '2018-11-26' '2018-11-25' '2018-11-24'\n",
      " '2018-11-23' '2018-11-22' '2018-11-21' '2018-11-20' '2018-11-19'\n",
      " '2018-11-18' '2018-11-17' '2018-11-16' '2018-11-15' '2018-11-14'\n",
      " '2018-11-13' '2018-11-12' '2018-11-11' '2018-11-10' '2018-11-09'\n",
      " '2018-11-07' '2018-11-06' '2018-11-05' '2018-11-04' '2018-11-08']\n"
     ]
    }
   ],
   "source": [
    "print(df.scrapingDateString.unique())\n",
    "\n",
    "# The scraping was made from 8 november 2018 to 28 november 2018"
   ]
  },
  {
   "cell_type": "code",
   "execution_count": 12,
   "metadata": {},
   "outputs": [
    {
     "name": "stdout",
     "output_type": "stream",
     "text": [
      "2018-11-04\n",
      "2019-11-02\n"
     ]
    }
   ],
   "source": [
    "print(min(df['calendar.date'].unique()))\n",
    "print(max(df['calendar.date'].unique()))\n",
    "\n",
    "# The booking dates span from 4 November 2018 to 2 November 2019"
   ]
  },
  {
   "cell_type": "code",
   "execution_count": 13,
   "metadata": {},
   "outputs": [],
   "source": [
    "# In summary, we have the following variables:\n",
    "# 1.'calendar.available': a dummy (True or False) for available or not\n",
    "# 2. 'calendar.date': the booking date (check-in date)\n",
    "# 3. 'scrapingDateString': the scraping date\n",
    "# other stuff: booking price, platform and ID. "
   ]
  },
  {
   "cell_type": "code",
   "execution_count": 14,
   "metadata": {},
   "outputs": [],
   "source": [
    "# ***** PRE-PROCESSING ****\n",
    "\n",
    "# This means doing some \"feature selection\", basically some manipulation of our data - dropping the irrelevant ones\n",
    "# and creating new ones - to get the data in a shape where it can go into a predictive model."
   ]
  },
  {
   "cell_type": "code",
   "execution_count": 15,
   "metadata": {},
   "outputs": [],
   "source": [
    "# We have an availability variable that is true or false and we want an occupancy variable in percentage for each date. \n",
    "# So we want occupancy = 1 - availability where avaialbility = 1 (True) or 0 (False).\n",
    "# This is an epic-ly simple way to do it that lets panda recognise we want to map the boolean to 0 or 1.\n",
    "# If pandas did not get that, we would define a function and apply it to the column using λ. "
   ]
  },
  {
   "cell_type": "code",
   "execution_count": 16,
   "metadata": {},
   "outputs": [],
   "source": [
    "df['occupancy'] = 1 - df['calendar.available']"
   ]
  },
  {
   "cell_type": "code",
   "execution_count": 17,
   "metadata": {},
   "outputs": [],
   "source": [
    "# Now let's calculate some averages to have one point per day. The question here is what do we average over? \n",
    "# We certainly want to average over unifiedId but what to do with the scrapingDateString? \n",
    "# If we have multiple scrapingDateString for the same calendar.date, which one do we take? \n",
    "# In this simple example, we will take the most recent one for the reasons explained in the pre-data analysis section. \n",
    "# That is we will keep data when calendar.date = scrapingDateString, otherwise we drop it. \n",
    "# I think in future version you'll want to keep those days where calendar.date is not equal scrapingDateString\n",
    "# but applying a weight to the occupancy values. \n",
    "# This alone is a separate machine learning task (and an interesting one) so I'll leave that on the side for now. \n",
    "# Here is another epic-ly simple way to manipulate columns with panda: "
   ]
  },
  {
   "cell_type": "code",
   "execution_count": 18,
   "metadata": {},
   "outputs": [],
   "source": [
    "df2 = df[df['calendar.date'] == df['scrapingDateString']]"
   ]
  },
  {
   "cell_type": "code",
   "execution_count": 19,
   "metadata": {},
   "outputs": [
    {
     "name": "stdout",
     "output_type": "stream",
     "text": [
      "      calendar.available calendar.date  calendar.price currency platform  \\\n",
      "0                  False    2018-11-28          221.56      USD   AIRBNB   \n",
      "340                 True    2018-11-27          222.72      USD   AIRBNB   \n",
      "681                False    2018-11-27          222.72      USD   AIRBNB   \n",
      "1022               False    2018-11-27          222.72      USD   AIRBNB   \n",
      "1363               False    2018-11-26          222.72      USD   AIRBNB   \n",
      "\n",
      "     scrapingDateString    unifiedId  occupancy  \n",
      "0            2018-11-28  AIR10132419          1  \n",
      "340          2018-11-27  AIR10132419          0  \n",
      "681          2018-11-27  AIR10132419          1  \n",
      "1022         2018-11-27  AIR10132419          1  \n",
      "1363         2018-11-26  AIR10132419          1  \n"
     ]
    }
   ],
   "source": [
    "# let's check out our new dataset \n",
    "\n",
    "print(df2.head()) "
   ]
  },
  {
   "cell_type": "code",
   "execution_count": 20,
   "metadata": {},
   "outputs": [
    {
     "name": "stdout",
     "output_type": "stream",
     "text": [
      "<class 'pandas.core.frame.DataFrame'>\n",
      "Int64Index: 13536 entries, 0 to 4733213\n",
      "Data columns (total 8 columns):\n",
      "calendar.available    13536 non-null bool\n",
      "calendar.date         13536 non-null object\n",
      "calendar.price        13536 non-null float64\n",
      "currency              13536 non-null object\n",
      "platform              13536 non-null object\n",
      "scrapingDateString    13536 non-null object\n",
      "unifiedId             13536 non-null object\n",
      "occupancy             13536 non-null int32\n",
      "dtypes: bool(1), float64(1), int32(1), object(5)\n",
      "memory usage: 806.3+ KB\n",
      "None\n"
     ]
    }
   ],
   "source": [
    "# We see by the row ID (first column of display) that we seem to have dropped quite a few data points. Let's see how many.\n",
    "\n",
    "print(df2.info())"
   ]
  },
  {
   "cell_type": "code",
   "execution_count": 21,
   "metadata": {},
   "outputs": [
    {
     "name": "stdout",
     "output_type": "stream",
     "text": [
      "0.28595735187774646\n"
     ]
    }
   ],
   "source": [
    "# We now have 13536 rows compared to 4733573 so we kept around 0.28% of the data\n",
    "print((13536 / 4733573) * 100 ) "
   ]
  },
  {
   "cell_type": "code",
   "execution_count": 22,
   "metadata": {},
   "outputs": [
    {
     "name": "stdout",
     "output_type": "stream",
     "text": [
      "2018-11-04\n",
      "2018-11-28\n"
     ]
    }
   ],
   "source": [
    "print(min(df2['calendar.date'].unique()))\n",
    "print(max(df2['calendar.date'].unique()))\n",
    "\n",
    "# Of course we have dropped all the data corresponding to time in the future \n",
    "# so we have data over 4 November to 28 November 2018 now."
   ]
  },
  {
   "cell_type": "code",
   "execution_count": 23,
   "metadata": {},
   "outputs": [],
   "source": [
    "# Now let's average occupancy over days. We'll use the handy groupby panda function "
   ]
  },
  {
   "cell_type": "code",
   "execution_count": 24,
   "metadata": {},
   "outputs": [
    {
     "data": {
      "text/html": [
       "<div>\n",
       "<style scoped>\n",
       "    .dataframe tbody tr th:only-of-type {\n",
       "        vertical-align: middle;\n",
       "    }\n",
       "\n",
       "    .dataframe tbody tr th {\n",
       "        vertical-align: top;\n",
       "    }\n",
       "\n",
       "    .dataframe thead th {\n",
       "        text-align: right;\n",
       "    }\n",
       "</style>\n",
       "<table border=\"1\" class=\"dataframe\">\n",
       "  <thead>\n",
       "    <tr style=\"text-align: right;\">\n",
       "      <th></th>\n",
       "      <th>calendar.available</th>\n",
       "      <th>calendar.price</th>\n",
       "      <th>occupancy</th>\n",
       "    </tr>\n",
       "    <tr>\n",
       "      <th>calendar.date</th>\n",
       "      <th></th>\n",
       "      <th></th>\n",
       "      <th></th>\n",
       "    </tr>\n",
       "  </thead>\n",
       "  <tbody>\n",
       "    <tr>\n",
       "      <th>2018-11-04</th>\n",
       "      <td>0.291228</td>\n",
       "      <td>228.015298</td>\n",
       "      <td>0.708772</td>\n",
       "    </tr>\n",
       "    <tr>\n",
       "      <th>2018-11-05</th>\n",
       "      <td>0.216783</td>\n",
       "      <td>227.611469</td>\n",
       "      <td>0.783217</td>\n",
       "    </tr>\n",
       "    <tr>\n",
       "      <th>2018-11-06</th>\n",
       "      <td>0.226667</td>\n",
       "      <td>222.062667</td>\n",
       "      <td>0.773333</td>\n",
       "    </tr>\n",
       "    <tr>\n",
       "      <th>2018-11-07</th>\n",
       "      <td>0.185315</td>\n",
       "      <td>224.403217</td>\n",
       "      <td>0.814685</td>\n",
       "    </tr>\n",
       "    <tr>\n",
       "      <th>2018-11-08</th>\n",
       "      <td>0.142857</td>\n",
       "      <td>222.625306</td>\n",
       "      <td>0.857143</td>\n",
       "    </tr>\n",
       "    <tr>\n",
       "      <th>2018-11-09</th>\n",
       "      <td>0.121359</td>\n",
       "      <td>237.045437</td>\n",
       "      <td>0.878641</td>\n",
       "    </tr>\n",
       "    <tr>\n",
       "      <th>2018-11-10</th>\n",
       "      <td>0.128472</td>\n",
       "      <td>244.667361</td>\n",
       "      <td>0.871528</td>\n",
       "    </tr>\n",
       "    <tr>\n",
       "      <th>2018-11-11</th>\n",
       "      <td>0.219231</td>\n",
       "      <td>225.972462</td>\n",
       "      <td>0.780769</td>\n",
       "    </tr>\n",
       "    <tr>\n",
       "      <th>2018-11-12</th>\n",
       "      <td>0.210884</td>\n",
       "      <td>253.811156</td>\n",
       "      <td>0.789116</td>\n",
       "    </tr>\n",
       "    <tr>\n",
       "      <th>2018-11-13</th>\n",
       "      <td>0.250000</td>\n",
       "      <td>242.915671</td>\n",
       "      <td>0.750000</td>\n",
       "    </tr>\n",
       "    <tr>\n",
       "      <th>2018-11-14</th>\n",
       "      <td>0.288026</td>\n",
       "      <td>243.053786</td>\n",
       "      <td>0.711974</td>\n",
       "    </tr>\n",
       "    <tr>\n",
       "      <th>2018-11-15</th>\n",
       "      <td>0.220606</td>\n",
       "      <td>223.953115</td>\n",
       "      <td>0.779394</td>\n",
       "    </tr>\n",
       "    <tr>\n",
       "      <th>2018-11-16</th>\n",
       "      <td>0.188383</td>\n",
       "      <td>233.926656</td>\n",
       "      <td>0.811617</td>\n",
       "    </tr>\n",
       "    <tr>\n",
       "      <th>2018-11-17</th>\n",
       "      <td>0.164675</td>\n",
       "      <td>237.205365</td>\n",
       "      <td>0.835325</td>\n",
       "    </tr>\n",
       "    <tr>\n",
       "      <th>2018-11-18</th>\n",
       "      <td>0.246631</td>\n",
       "      <td>221.902372</td>\n",
       "      <td>0.753369</td>\n",
       "    </tr>\n",
       "    <tr>\n",
       "      <th>2018-11-19</th>\n",
       "      <td>0.275580</td>\n",
       "      <td>213.110832</td>\n",
       "      <td>0.724420</td>\n",
       "    </tr>\n",
       "    <tr>\n",
       "      <th>2018-11-20</th>\n",
       "      <td>0.281746</td>\n",
       "      <td>214.398995</td>\n",
       "      <td>0.718254</td>\n",
       "    </tr>\n",
       "    <tr>\n",
       "      <th>2018-11-21</th>\n",
       "      <td>0.262849</td>\n",
       "      <td>215.744670</td>\n",
       "      <td>0.737151</td>\n",
       "    </tr>\n",
       "    <tr>\n",
       "      <th>2018-11-22</th>\n",
       "      <td>0.233533</td>\n",
       "      <td>221.197413</td>\n",
       "      <td>0.766467</td>\n",
       "    </tr>\n",
       "    <tr>\n",
       "      <th>2018-11-23</th>\n",
       "      <td>0.187311</td>\n",
       "      <td>234.749305</td>\n",
       "      <td>0.812689</td>\n",
       "    </tr>\n",
       "    <tr>\n",
       "      <th>2018-11-24</th>\n",
       "      <td>0.182254</td>\n",
       "      <td>232.696835</td>\n",
       "      <td>0.817746</td>\n",
       "    </tr>\n",
       "    <tr>\n",
       "      <th>2018-11-25</th>\n",
       "      <td>0.267188</td>\n",
       "      <td>212.193000</td>\n",
       "      <td>0.732812</td>\n",
       "    </tr>\n",
       "    <tr>\n",
       "      <th>2018-11-26</th>\n",
       "      <td>0.331956</td>\n",
       "      <td>205.444628</td>\n",
       "      <td>0.668044</td>\n",
       "    </tr>\n",
       "    <tr>\n",
       "      <th>2018-11-27</th>\n",
       "      <td>0.365439</td>\n",
       "      <td>203.709802</td>\n",
       "      <td>0.634561</td>\n",
       "    </tr>\n",
       "    <tr>\n",
       "      <th>2018-11-28</th>\n",
       "      <td>0.365559</td>\n",
       "      <td>201.104048</td>\n",
       "      <td>0.634441</td>\n",
       "    </tr>\n",
       "  </tbody>\n",
       "</table>\n",
       "</div>"
      ],
      "text/plain": [
       "               calendar.available  calendar.price  occupancy\n",
       "calendar.date                                               \n",
       "2018-11-04               0.291228      228.015298   0.708772\n",
       "2018-11-05               0.216783      227.611469   0.783217\n",
       "2018-11-06               0.226667      222.062667   0.773333\n",
       "2018-11-07               0.185315      224.403217   0.814685\n",
       "2018-11-08               0.142857      222.625306   0.857143\n",
       "2018-11-09               0.121359      237.045437   0.878641\n",
       "2018-11-10               0.128472      244.667361   0.871528\n",
       "2018-11-11               0.219231      225.972462   0.780769\n",
       "2018-11-12               0.210884      253.811156   0.789116\n",
       "2018-11-13               0.250000      242.915671   0.750000\n",
       "2018-11-14               0.288026      243.053786   0.711974\n",
       "2018-11-15               0.220606      223.953115   0.779394\n",
       "2018-11-16               0.188383      233.926656   0.811617\n",
       "2018-11-17               0.164675      237.205365   0.835325\n",
       "2018-11-18               0.246631      221.902372   0.753369\n",
       "2018-11-19               0.275580      213.110832   0.724420\n",
       "2018-11-20               0.281746      214.398995   0.718254\n",
       "2018-11-21               0.262849      215.744670   0.737151\n",
       "2018-11-22               0.233533      221.197413   0.766467\n",
       "2018-11-23               0.187311      234.749305   0.812689\n",
       "2018-11-24               0.182254      232.696835   0.817746\n",
       "2018-11-25               0.267188      212.193000   0.732812\n",
       "2018-11-26               0.331956      205.444628   0.668044\n",
       "2018-11-27               0.365439      203.709802   0.634561\n",
       "2018-11-28               0.365559      201.104048   0.634441"
      ]
     },
     "execution_count": 24,
     "metadata": {},
     "output_type": "execute_result"
    }
   ],
   "source": [
    "df2.groupby('calendar.date').mean()\n",
    "\n",
    "#nice, hm? "
   ]
  },
  {
   "cell_type": "code",
   "execution_count": 25,
   "metadata": {},
   "outputs": [
    {
     "name": "stdout",
     "output_type": "stream",
     "text": [
      "<class 'pandas.core.frame.DataFrame'>\n",
      "Int64Index: 25 entries, 0 to 24\n",
      "Data columns (total 4 columns):\n",
      "calendar.date         25 non-null object\n",
      "calendar.available    25 non-null float64\n",
      "calendar.price        25 non-null float64\n",
      "occupancy             25 non-null float64\n",
      "dtypes: float64(3), object(1)\n",
      "memory usage: 1000.0+ bytes\n",
      "None\n"
     ]
    }
   ],
   "source": [
    "df3 = df2.groupby('calendar.date',as_index=False).mean() #To output Dataframe, use as_index=False. Without as_index=False, it returns a Series instead\n",
    "print(df3.info())\n",
    "\n",
    "# not only did it average but it also took out the non-numerical variable, which in our case is fine. \n",
    "# We now have a 3 x 25 table that is ready for model processing. "
   ]
  },
  {
   "cell_type": "code",
   "execution_count": 26,
   "metadata": {},
   "outputs": [
    {
     "name": "stdout",
     "output_type": "stream",
     "text": [
      "   calendar.date  calendar.available  calendar.price  occupancy\n",
      "0     2018-11-04            0.291228      228.015298   0.708772\n",
      "1     2018-11-05            0.216783      227.611469   0.783217\n",
      "2     2018-11-06            0.226667      222.062667   0.773333\n",
      "3     2018-11-07            0.185315      224.403217   0.814685\n",
      "4     2018-11-08            0.142857      222.625306   0.857143\n",
      "5     2018-11-09            0.121359      237.045437   0.878641\n",
      "6     2018-11-10            0.128472      244.667361   0.871528\n",
      "7     2018-11-11            0.219231      225.972462   0.780769\n",
      "8     2018-11-12            0.210884      253.811156   0.789116\n",
      "9     2018-11-13            0.250000      242.915671   0.750000\n",
      "10    2018-11-14            0.288026      243.053786   0.711974\n",
      "11    2018-11-15            0.220606      223.953115   0.779394\n",
      "12    2018-11-16            0.188383      233.926656   0.811617\n",
      "13    2018-11-17            0.164675      237.205365   0.835325\n",
      "14    2018-11-18            0.246631      221.902372   0.753369\n",
      "15    2018-11-19            0.275580      213.110832   0.724420\n",
      "16    2018-11-20            0.281746      214.398995   0.718254\n",
      "17    2018-11-21            0.262849      215.744670   0.737151\n",
      "18    2018-11-22            0.233533      221.197413   0.766467\n",
      "19    2018-11-23            0.187311      234.749305   0.812689\n",
      "20    2018-11-24            0.182254      232.696835   0.817746\n",
      "21    2018-11-25            0.267188      212.193000   0.732812\n",
      "22    2018-11-26            0.331956      205.444628   0.668044\n",
      "23    2018-11-27            0.365439      203.709802   0.634561\n",
      "24    2018-11-28            0.365559      201.104048   0.634441\n"
     ]
    }
   ],
   "source": [
    "print(df3.head(25))"
   ]
  },
  {
   "cell_type": "code",
   "execution_count": 27,
   "metadata": {},
   "outputs": [],
   "source": [
    "# In this version we'll also get rid of price to keep calendar date and occupancy only. \n",
    "# Arguably price can be used to forecast occupancy but we should then use a lagged version of the price, \n",
    "# plus there are potential isues with causation (is occupancy driving price or price driving occupancy)\n",
    "# that means a cointegration type of model might be better, \n",
    "# so I'll leave that for now. But another interesting thing to investigate. \n",
    "\n",
    "df4 = df3[['calendar.date','occupancy']]"
   ]
  },
  {
   "cell_type": "code",
   "execution_count": 28,
   "metadata": {},
   "outputs": [],
   "source": [
    "# **** DATA PROCESSING *****\n",
    "\n",
    "# That is basically the selection of the model.\n",
    "\n",
    "# The process is to go through is the following: \n",
    "#   1. plot the data so you can get a feel of what the series look like\n",
    "#   2. try a simple model - see how good it is doing. If the simple model is OK (we'll see what ding OK mean), then stop there \n",
    "#      and think about production. For example if you find that a linear regresion model is OK \n",
    "#      you want to start thinking about ways to avoid over-fit like Lasso or Ridge regularization\n",
    "#   3. otherwise try more complex models. \n",
    "\n",
    "# Here we are going to try a simple regression over time without checking for anything. \n",
    "# Then we are going to look at seasonality and try to have a better fit \n",
    "# (with the ARIMA types of models)"
   ]
  },
  {
   "cell_type": "code",
   "execution_count": 29,
   "metadata": {},
   "outputs": [
    {
     "data": {
      "text/plain": [
       "<matplotlib.axes._subplots.AxesSubplot at 0x22dd98bc390>"
      ]
     },
     "execution_count": 29,
     "metadata": {},
     "output_type": "execute_result"
    }
   ],
   "source": [
    "# OK, let's plot our new series \n",
    "\n",
    "df4.plot()"
   ]
  },
  {
   "cell_type": "code",
   "execution_count": 30,
   "metadata": {},
   "outputs": [],
   "source": [
    "# We see: \n",
    "#  - clear seasonality \n",
    "#  - a sort of downard trend \n",
    "\n",
    "# That is the sort of time series we should be able to pretty well predict.\n",
    "# What shape for the moedl though? For the trend having the time should be ok. \n",
    "# For seasonality we need something more cyclical. Let's do each at a time.  "
   ]
  },
  {
   "cell_type": "code",
   "execution_count": 31,
   "metadata": {},
   "outputs": [],
   "source": [
    "# *****TIME-TREND MODEL*****"
   ]
  },
  {
   "cell_type": "code",
   "execution_count": 32,
   "metadata": {},
   "outputs": [
    {
     "name": "stderr",
     "output_type": "stream",
     "text": [
      "c:\\users\\admin\\appdata\\local\\programs\\python\\python36\\lib\\site-packages\\ipykernel_launcher.py:4: SettingWithCopyWarning: \n",
      "A value is trying to be set on a copy of a slice from a DataFrame.\n",
      "Try using .loc[row_indexer,col_indexer] = value instead\n",
      "\n",
      "See the caveats in the documentation: http://pandas.pydata.org/pandas-docs/stable/indexing.html#indexing-view-versus-copy\n",
      "  after removing the cwd from sys.path.\n",
      "c:\\users\\admin\\appdata\\local\\programs\\python\\python36\\lib\\site-packages\\ipykernel_launcher.py:5: SettingWithCopyWarning: \n",
      "A value is trying to be set on a copy of a slice from a DataFrame.\n",
      "Try using .loc[row_indexer,col_indexer] = value instead\n",
      "\n",
      "See the caveats in the documentation: http://pandas.pydata.org/pandas-docs/stable/indexing.html#indexing-view-versus-copy\n",
      "  \"\"\"\n"
     ]
    }
   ],
   "source": [
    "# Linear regression doesn't work on date data. Therefore we need to convert it into numerical value\n",
    "\n",
    "import datetime as dt\n",
    "df4['Date'] = pd.to_datetime(df4['calendar.date'])\n",
    "df4['Date']=df4['Date'].map(dt.datetime.toordinal)"
   ]
  },
  {
   "cell_type": "code",
   "execution_count": 33,
   "metadata": {},
   "outputs": [
    {
     "name": "stdout",
     "output_type": "stream",
     "text": [
      "   calendar.date  occupancy    Date\n",
      "0     2018-11-04   0.708772  737002\n",
      "1     2018-11-05   0.783217  737003\n",
      "2     2018-11-06   0.773333  737004\n",
      "3     2018-11-07   0.814685  737005\n",
      "4     2018-11-08   0.857143  737006\n",
      "5     2018-11-09   0.878641  737007\n",
      "6     2018-11-10   0.871528  737008\n",
      "7     2018-11-11   0.780769  737009\n",
      "8     2018-11-12   0.789116  737010\n",
      "9     2018-11-13   0.750000  737011\n",
      "10    2018-11-14   0.711974  737012\n",
      "11    2018-11-15   0.779394  737013\n",
      "12    2018-11-16   0.811617  737014\n",
      "13    2018-11-17   0.835325  737015\n",
      "14    2018-11-18   0.753369  737016\n",
      "15    2018-11-19   0.724420  737017\n",
      "16    2018-11-20   0.718254  737018\n",
      "17    2018-11-21   0.737151  737019\n",
      "18    2018-11-22   0.766467  737020\n",
      "19    2018-11-23   0.812689  737021\n",
      "20    2018-11-24   0.817746  737022\n",
      "21    2018-11-25   0.732812  737023\n",
      "22    2018-11-26   0.668044  737024\n",
      "23    2018-11-27   0.634561  737025\n",
      "24    2018-11-28   0.634441  737026\n"
     ]
    }
   ],
   "source": [
    "print(df4.head(25))"
   ]
  },
  {
   "cell_type": "code",
   "execution_count": 40,
   "metadata": {},
   "outputs": [],
   "source": [
    "import statsmodels.api as sm \n",
    "\n",
    "# Statsmodels is a great little Python package that provides classes and functions for the estimation \n",
    "# of many different statistical models.\n",
    "# It requires patsy: pip install patsy.\n",
    "# One little trick to remember is that you have to add a constant manually to the x data for calculating the intercept, \n",
    "# otherwise by default it will report the coefficient only. "
   ]
  },
  {
   "cell_type": "code",
   "execution_count": 38,
   "metadata": {},
   "outputs": [
    {
     "data": {
      "text/html": [
       "<div>\n",
       "<style scoped>\n",
       "    .dataframe tbody tr th:only-of-type {\n",
       "        vertical-align: middle;\n",
       "    }\n",
       "\n",
       "    .dataframe tbody tr th {\n",
       "        vertical-align: top;\n",
       "    }\n",
       "\n",
       "    .dataframe thead th {\n",
       "        text-align: right;\n",
       "    }\n",
       "</style>\n",
       "<table border=\"1\" class=\"dataframe\">\n",
       "  <thead>\n",
       "    <tr style=\"text-align: right;\">\n",
       "      <th></th>\n",
       "      <th>calendar.date</th>\n",
       "      <th>occupancy</th>\n",
       "      <th>Date</th>\n",
       "    </tr>\n",
       "  </thead>\n",
       "  <tbody>\n",
       "    <tr>\n",
       "      <th>0</th>\n",
       "      <td>2018-11-04</td>\n",
       "      <td>0.708772</td>\n",
       "      <td>737002</td>\n",
       "    </tr>\n",
       "    <tr>\n",
       "      <th>1</th>\n",
       "      <td>2018-11-05</td>\n",
       "      <td>0.783217</td>\n",
       "      <td>737003</td>\n",
       "    </tr>\n",
       "    <tr>\n",
       "      <th>2</th>\n",
       "      <td>2018-11-06</td>\n",
       "      <td>0.773333</td>\n",
       "      <td>737004</td>\n",
       "    </tr>\n",
       "    <tr>\n",
       "      <th>3</th>\n",
       "      <td>2018-11-07</td>\n",
       "      <td>0.814685</td>\n",
       "      <td>737005</td>\n",
       "    </tr>\n",
       "    <tr>\n",
       "      <th>4</th>\n",
       "      <td>2018-11-08</td>\n",
       "      <td>0.857143</td>\n",
       "      <td>737006</td>\n",
       "    </tr>\n",
       "  </tbody>\n",
       "</table>\n",
       "</div>"
      ],
      "text/plain": [
       "  calendar.date  occupancy    Date\n",
       "0    2018-11-04   0.708772  737002\n",
       "1    2018-11-05   0.783217  737003\n",
       "2    2018-11-06   0.773333  737004\n",
       "3    2018-11-07   0.814685  737005\n",
       "4    2018-11-08   0.857143  737006"
      ]
     },
     "execution_count": 38,
     "metadata": {},
     "output_type": "execute_result"
    }
   ],
   "source": [
    "df4.head()"
   ]
  },
  {
   "cell_type": "code",
   "execution_count": 60,
   "metadata": {},
   "outputs": [
    {
     "name": "stdout",
     "output_type": "stream",
     "text": [
      "      Date  const\n",
      "0   737002    1.0\n",
      "1   737003    1.0\n",
      "2   737004    1.0\n",
      "3   737005    1.0\n",
      "4   737006    1.0\n",
      "5   737007    1.0\n",
      "6   737008    1.0\n",
      "7   737009    1.0\n",
      "8   737010    1.0\n",
      "9   737011    1.0\n",
      "10  737012    1.0\n",
      "11  737013    1.0\n",
      "12  737014    1.0\n",
      "13  737015    1.0\n",
      "14  737016    1.0\n",
      "15  737017    1.0\n",
      "16  737018    1.0\n",
      "17  737019    1.0\n",
      "18  737020    1.0\n",
      "19  737021    1.0\n",
      "20  737022    1.0\n",
      "21  737023    1.0\n",
      "22  737024    1.0\n",
      "23  737025    1.0\n",
      "24  737026    1.0\n"
     ]
    }
   ],
   "source": [
    "x = df4.Date #your explanatory variable\n",
    "y = df4.occupancy #your explained variable\n",
    "\n",
    "x = sm.add_constant(X, prepend=False) #we add a series of 1 so that we have a constant 'a': y = a + b.X\n",
    "\n",
    "print(X) "
   ]
  },
  {
   "cell_type": "code",
   "execution_count": 51,
   "metadata": {},
   "outputs": [],
   "source": [
    "# Fit and summarize OLS model\n",
    "\n",
    "mod = sm.OLS(y, X)"
   ]
  },
  {
   "cell_type": "code",
   "execution_count": 52,
   "metadata": {},
   "outputs": [],
   "source": [
    "res = mod.fit()"
   ]
  },
  {
   "cell_type": "code",
   "execution_count": 53,
   "metadata": {
    "scrolled": true
   },
   "outputs": [
    {
     "name": "stdout",
     "output_type": "stream",
     "text": [
      "                            OLS Regression Results                            \n",
      "==============================================================================\n",
      "Dep. Variable:              occupancy   R-squared:                       0.280\n",
      "Model:                            OLS   Adj. R-squared:                  0.249\n",
      "Method:                 Least Squares   F-statistic:                     8.958\n",
      "Date:                Thu, 29 Nov 2018   Prob (F-statistic):            0.00650\n",
      "Time:                        16:25:29   Log-Likelihood:                 37.135\n",
      "No. Observations:                  25   AIC:                            -70.27\n",
      "Df Residuals:                      23   BIC:                            -67.83\n",
      "Df Model:                           1                                         \n",
      "Covariance Type:            nonrobust                                         \n",
      "==============================================================================\n",
      "                 coef    std err          t      P>|t|      [0.025      0.975]\n",
      "------------------------------------------------------------------------------\n",
      "Date          -0.0047      0.002     -2.993      0.006      -0.008      -0.001\n",
      "const       3495.1711   1167.535      2.994      0.006    1079.941    5910.401\n",
      "==============================================================================\n",
      "Omnibus:                        0.735   Durbin-Watson:                   0.672\n",
      "Prob(Omnibus):                  0.692   Jarque-Bera (JB):                0.687\n",
      "Skew:                          -0.014   Prob(JB):                        0.709\n",
      "Kurtosis:                       2.188   Cond. No.                     7.53e+10\n",
      "==============================================================================\n",
      "\n",
      "Warnings:\n",
      "[1] Standard Errors assume that the covariance matrix of the errors is correctly specified.\n",
      "[2] The condition number is large, 7.53e+10. This might indicate that there are\n",
      "strong multicollinearity or other numerical problems.\n"
     ]
    }
   ],
   "source": [
    "print(res.summary())\n",
    "\n",
    "# So in our eqation Occupancy = a + b.Date, we find a coeffient b = -0.0047, which is consistent with the downard trend we \n",
    "# noticed. \n",
    "# We get an R2 of 28%, which is not great, but not that bad actually. \n",
    "# Always do these sort of sense-checks, as they are the best way to find errors. "
   ]
  },
  {
   "cell_type": "code",
   "execution_count": 54,
   "metadata": {},
   "outputs": [],
   "source": [
    "# Now let's see how our prediction works compared to actual values  "
   ]
  },
  {
   "cell_type": "code",
   "execution_count": 56,
   "metadata": {},
   "outputs": [],
   "source": [
    "ypred = res.predict(X)"
   ]
  },
  {
   "cell_type": "code",
   "execution_count": 73,
   "metadata": {},
   "outputs": [],
   "source": [
    "df4['pred_values_linear'] = ypred"
   ]
  },
  {
   "cell_type": "code",
   "execution_count": 95,
   "metadata": {},
   "outputs": [
    {
     "data": {
      "text/plain": [
       "<matplotlib.axes._subplots.AxesSubplot at 0x22ddbc8f4a8>"
      ]
     },
     "execution_count": 95,
     "metadata": {},
     "output_type": "execute_result"
    },
    {
     "data": {
      "image/png": "[encoded data removed]",
      "text/plain": [
       "<Figure size 432x288 with 1 Axes>"
      ]
     },
     "metadata": {
      "needs_background": "light"
     },
     "output_type": "display_data"
    }
   ],
   "source": [
    "df4[['occupancy','pred_values_linear']].plot()\n",
    "\n",
    "# It is basically a straight line that sort of captures the trend. \n",
    "# Not that great, let's try and improve that."
   ]
  },
  {
   "cell_type": "code",
   "execution_count": 66,
   "metadata": {},
   "outputs": [],
   "source": [
    "#**** REFINEMENT 1:ARIMA ***** \n",
    "\n",
    "# Now the key obvious issue with a linear regression here is that it is a line, like just a straight line\n",
    "# while our data has an obvious cyclical feel to it (which makes sense for leisure activities). \n",
    "# Enter ARIMA. "
   ]
  },
  {
   "cell_type": "code",
   "execution_count": 71,
   "metadata": {},
   "outputs": [],
   "source": [
    "# I won't talk too much about the ARIMA part but the idea is that a SARIMA model is good for \n",
    "# series with trend and/or seasonal components.\n",
    "# You need to enter the type of seasonality in your SARIMA, for instance quarterly seasonality would be 4. \n",
    "# The traditional way to do this is using autocorrelation but here we'll just use common sense and a look at the data plot.\n",
    "# My gut feeling here is that we have weekly seasonality here with spikes during weekends, \n",
    "# so I am gonna give that guy a 7 as seasonal order.\n",
    "# There is also a proper way to determine the coefficients of the ARIMA with information criteria \n",
    "# but I'll leave that for now and will give just (1,1,0).which means I am assuming a trend but no moving average\n",
    "# ('cause it doesn't look like there are moving averages, which would show up as noisy movements around the trend) \n",
    "\n",
    "from statsmodels.tsa.statespace.sarimax import SARIMAX\n",
    "\n",
    "# fit model\n",
    "model = SARIMAX(y, order=(1, 1, 0), seasonal_order=(1, 1, 0, 1))\n",
    "model_fit = model.fit(disp=False)"
   ]
  },
  {
   "cell_type": "code",
   "execution_count": 87,
   "metadata": {},
   "outputs": [
    {
     "name": "stdout",
     "output_type": "stream",
     "text": [
      "                                 Statespace Model Results                                \n",
      "=========================================================================================\n",
      "Dep. Variable:                         occupancy   No. Observations:                   25\n",
      "Model:             SARIMAX(1, 1, 0)x(1, 1, 0, 1)   Log Likelihood                  34.794\n",
      "Date:                           Thu, 29 Nov 2018   AIC                            -63.587\n",
      "Time:                                   17:47:09   BIC                            -60.181\n",
      "Sample:                                        0   HQIC                           -62.731\n",
      "                                            - 25                                         \n",
      "Covariance Type:                             opg                                         \n",
      "==============================================================================\n",
      "                 coef    std err          z      P>|z|      [0.025      0.975]\n",
      "------------------------------------------------------------------------------\n",
      "ar.L1         -0.1452      0.151     -0.959      0.338      -0.442       0.152\n",
      "ar.S.L1       -0.1452      0.151     -0.959      0.338      -0.442       0.152\n",
      "sigma2         0.0028      0.001      3.195      0.001       0.001       0.005\n",
      "===================================================================================\n",
      "Ljung-Box (Q):                       31.00   Jarque-Bera (JB):                 0.44\n",
      "Prob(Q):                              0.10   Prob(JB):                         0.80\n",
      "Heteroskedasticity (H):               0.70   Skew:                            -0.31\n",
      "Prob(H) (two-sided):                  0.63   Kurtosis:                         2.74\n",
      "===================================================================================\n",
      "\n",
      "Warnings:\n",
      "[1] Covariance matrix calculated using the outer product of gradients (complex-step).\n",
      "[2] Covariance matrix is singular or near-singular, with condition number 5.09e+23. Standard errors may be unstable.\n"
     ]
    }
   ],
   "source": [
    "print(model_fit.summary())"
   ]
  },
  {
   "cell_type": "code",
   "execution_count": 91,
   "metadata": {},
   "outputs": [
    {
     "name": "stdout",
     "output_type": "stream",
     "text": [
      "1     1.063158\n",
      "2     0.857662\n",
      "3     0.787426\n",
      "4     0.842940\n",
      "5     0.898200\n",
      "6     0.906200\n",
      "7     0.873162\n",
      "8     0.714897\n",
      "9     0.770453\n",
      "10    0.722575\n",
      "11    0.674632\n",
      "12    0.816179\n",
      "13    0.851836\n",
      "14    0.862247\n",
      "15    0.702268\n",
      "16    0.682309\n",
      "17    0.704357\n",
      "18    0.748292\n",
      "19    0.792230\n",
      "20    0.853783\n",
      "21    0.834397\n",
      "22    0.674872\n",
      "23    0.599318\n",
      "24    0.591570\n",
      "25    0.623976\n",
      "dtype: float64\n"
     ]
    }
   ],
   "source": [
    "# make prediction\n",
    "yhat = model_fit.predict(1 , len(y))\n",
    "print(yhat)"
   ]
  },
  {
   "cell_type": "code",
   "execution_count": 92,
   "metadata": {},
   "outputs": [],
   "source": [
    "df4['pred_values_arima'] = yhat"
   ]
  },
  {
   "cell_type": "code",
   "execution_count": 93,
   "metadata": {},
   "outputs": [
    {
     "data": {
      "text/plain": [
       "<matplotlib.axes._subplots.AxesSubplot at 0x22ddbdc86a0>"
      ]
     },
     "execution_count": 93,
     "metadata": {},
     "output_type": "execute_result"
    },
    {
     "data": {
      "image/png": "[encoded data removed]",
      "text/plain": [
       "<Figure size 432x288 with 1 Axes>"
      ]
     },
     "metadata": {
      "needs_background": "light"
     },
     "output_type": "display_data"
    }
   ],
   "source": [
    "df4[['occupancy','pred_values_arima']].plot()"
   ]
  },
  {
   "cell_type": "code",
   "execution_count": null,
   "metadata": {},
   "outputs": [],
   "source": [
    "#**** REFINEMENT 2:DEEP LEARNING ***** "
   ]
  }
 ],
 "metadata": {
  "kernelspec": {
   "display_name": "Python 3",
   "language": "python",
   "name": "python3"
  },
  "language_info": {
   "codemirror_mode": {
    "name": "ipython",
    "version": 3
   },
   "file_extension": ".py",
   "mimetype": "text/x-python",
   "name": "python",
   "nbconvert_exporter": "python",
   "pygments_lexer": "ipython3",
   "version": "3.6.0"
  }
 },
 "nbformat": 4,
 "nbformat_minor": 2
}
